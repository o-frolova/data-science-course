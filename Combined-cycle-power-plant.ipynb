{
 "cells": [
  {
   "cell_type": "markdown",
   "metadata": {},
   "source": [
    "# Regression"
   ]
  },
  {
   "cell_type": "markdown",
   "metadata": {},
   "source": [
    "This project is focused on working with regression: consideration of several types of regression, behavior analysis.\n",
    "\n",
    "Two sets of data are considered:\n",
    "\n",
    "dataset_1 link: https://archive.ics.uci.edu/ml/datasets/Combined+Cycle+Power+Plant\n",
    "\n",
    "dataset_2 link: https://archive.ics.uci.edu/ml/datasets/Airfoil+Self-Noise "
   ]
  },
  {
   "cell_type": "markdown",
   "metadata": {},
   "source": [
    "## Import libraries"
   ]
  },
  {
   "cell_type": "code",
   "execution_count": 2,
   "metadata": {},
   "outputs": [],
   "source": [
    "import numpy as np\n",
    "import pandas as pd\n",
    "import matplotlib.pyplot as plt\n",
    "from sklearn.model_selection import train_test_split\n",
    "from sklearn.linear_model import LinearRegression\n",
    "from sklearn.metrics import r2_score\n",
    "from sklearn.linear_model import Ridge, Lasso, RidgeCV, LassoCV"
   ]
  },
  {
   "cell_type": "markdown",
   "metadata": {},
   "source": [
    "## dataset_1"
   ]
  },
  {
   "cell_type": "code",
   "execution_count": 3,
   "metadata": {},
   "outputs": [
    {
     "data": {
      "text/html": [
       "<div>\n",
       "<style scoped>\n",
       "    .dataframe tbody tr th:only-of-type {\n",
       "        vertical-align: middle;\n",
       "    }\n",
       "\n",
       "    .dataframe tbody tr th {\n",
       "        vertical-align: top;\n",
       "    }\n",
       "\n",
       "    .dataframe thead th {\n",
       "        text-align: right;\n",
       "    }\n",
       "</style>\n",
       "<table border=\"1\" class=\"dataframe\">\n",
       "  <thead>\n",
       "    <tr style=\"text-align: right;\">\n",
       "      <th></th>\n",
       "      <th>AT</th>\n",
       "      <th>V</th>\n",
       "      <th>AP</th>\n",
       "      <th>RH</th>\n",
       "      <th>PE</th>\n",
       "    </tr>\n",
       "  </thead>\n",
       "  <tbody>\n",
       "    <tr>\n",
       "      <th>0</th>\n",
       "      <td>14.96</td>\n",
       "      <td>41.76</td>\n",
       "      <td>1024.07</td>\n",
       "      <td>73.17</td>\n",
       "      <td>463.26</td>\n",
       "    </tr>\n",
       "    <tr>\n",
       "      <th>1</th>\n",
       "      <td>25.18</td>\n",
       "      <td>62.96</td>\n",
       "      <td>1020.04</td>\n",
       "      <td>59.08</td>\n",
       "      <td>444.37</td>\n",
       "    </tr>\n",
       "    <tr>\n",
       "      <th>2</th>\n",
       "      <td>5.11</td>\n",
       "      <td>39.40</td>\n",
       "      <td>1012.16</td>\n",
       "      <td>92.14</td>\n",
       "      <td>488.56</td>\n",
       "    </tr>\n",
       "    <tr>\n",
       "      <th>3</th>\n",
       "      <td>20.86</td>\n",
       "      <td>57.32</td>\n",
       "      <td>1010.24</td>\n",
       "      <td>76.64</td>\n",
       "      <td>446.48</td>\n",
       "    </tr>\n",
       "    <tr>\n",
       "      <th>4</th>\n",
       "      <td>10.82</td>\n",
       "      <td>37.50</td>\n",
       "      <td>1009.23</td>\n",
       "      <td>96.62</td>\n",
       "      <td>473.90</td>\n",
       "    </tr>\n",
       "    <tr>\n",
       "      <th>...</th>\n",
       "      <td>...</td>\n",
       "      <td>...</td>\n",
       "      <td>...</td>\n",
       "      <td>...</td>\n",
       "      <td>...</td>\n",
       "    </tr>\n",
       "    <tr>\n",
       "      <th>9563</th>\n",
       "      <td>16.65</td>\n",
       "      <td>49.69</td>\n",
       "      <td>1014.01</td>\n",
       "      <td>91.00</td>\n",
       "      <td>460.03</td>\n",
       "    </tr>\n",
       "    <tr>\n",
       "      <th>9564</th>\n",
       "      <td>13.19</td>\n",
       "      <td>39.18</td>\n",
       "      <td>1023.67</td>\n",
       "      <td>66.78</td>\n",
       "      <td>469.62</td>\n",
       "    </tr>\n",
       "    <tr>\n",
       "      <th>9565</th>\n",
       "      <td>31.32</td>\n",
       "      <td>74.33</td>\n",
       "      <td>1012.92</td>\n",
       "      <td>36.48</td>\n",
       "      <td>429.57</td>\n",
       "    </tr>\n",
       "    <tr>\n",
       "      <th>9566</th>\n",
       "      <td>24.48</td>\n",
       "      <td>69.45</td>\n",
       "      <td>1013.86</td>\n",
       "      <td>62.39</td>\n",
       "      <td>435.74</td>\n",
       "    </tr>\n",
       "    <tr>\n",
       "      <th>9567</th>\n",
       "      <td>21.60</td>\n",
       "      <td>62.52</td>\n",
       "      <td>1017.23</td>\n",
       "      <td>67.87</td>\n",
       "      <td>453.28</td>\n",
       "    </tr>\n",
       "  </tbody>\n",
       "</table>\n",
       "<p>9568 rows × 5 columns</p>\n",
       "</div>"
      ],
      "text/plain": [
       "         AT      V       AP     RH      PE\n",
       "0     14.96  41.76  1024.07  73.17  463.26\n",
       "1     25.18  62.96  1020.04  59.08  444.37\n",
       "2      5.11  39.40  1012.16  92.14  488.56\n",
       "3     20.86  57.32  1010.24  76.64  446.48\n",
       "4     10.82  37.50  1009.23  96.62  473.90\n",
       "...     ...    ...      ...    ...     ...\n",
       "9563  16.65  49.69  1014.01  91.00  460.03\n",
       "9564  13.19  39.18  1023.67  66.78  469.62\n",
       "9565  31.32  74.33  1012.92  36.48  429.57\n",
       "9566  24.48  69.45  1013.86  62.39  435.74\n",
       "9567  21.60  62.52  1017.23  67.87  453.28\n",
       "\n",
       "[9568 rows x 5 columns]"
      ]
     },
     "execution_count": 3,
     "metadata": {},
     "output_type": "execute_result"
    }
   ],
   "source": [
    "FullTable = pd.read_excel('/Users/olgafrolova/Documents/Data-science(introduction)/datasets/combined-cycle-power-plant.xlsx')\n",
    "FullTable"
   ]
  },
  {
   "cell_type": "code",
   "execution_count": 4,
   "metadata": {},
   "outputs": [],
   "source": [
    "X = FullTable.drop(['PE'],axis=1)\n",
    "y = FullTable['PE']\n",
    "\n",
    "X_train, X_test, y_train, y_test = train_test_split(X, y, test_size=0.2)"
   ]
  },
  {
   "attachments": {},
   "cell_type": "markdown",
   "metadata": {},
   "source": [
    "### Linear regression"
   ]
  },
  {
   "cell_type": "code",
   "execution_count": 5,
   "metadata": {},
   "outputs": [
    {
     "name": "stdout",
     "output_type": "stream",
     "text": [
      "Coef:  [-1.97021511 -0.2388262   0.06871465 -0.15787046]\n",
      "R2: 0.9284427348740389\n"
     ]
    }
   ],
   "source": [
    "lr = LinearRegression()\n",
    "lr.fit(X_train, y_train)\n",
    "y_pred = lr.predict(X_test)\n",
    "print(\"Coef: \", lr.coef_)\n",
    "print(\"R2:\", r2_score(y_test, y_pred))"
   ]
  },
  {
   "cell_type": "markdown",
   "metadata": {},
   "source": [
    "<b>Note:</b>\n",
    "\n",
    "\n",
    "It can be seen that the signs \"temperature\", \"atmospheric pressure\" and \"vacuum\" on the exhaust have a negative impact on power generation. While the sign \"humidity\" has a positive effect.The most important feature is \"temperature\", the least important is \"humidity\".\n",
    "\n",
    "The importance of temperature can be explained by the fact that a combined cycle power plant consists of gas turbines, steam turbines and waste heat steam generators. In CCGT, electricity is generated by gas and steam turbines, which are combined into one cycle and transferred from one turbine to another. While the Vacuum is formed and acts on the steam turbine. At every stage of power generation, temperature is extremely important, as a small deviation can lead to completely different results."
   ]
  },
  {
   "attachments": {},
   "cell_type": "markdown",
   "metadata": {},
   "source": [
    "### Ridge regression"
   ]
  },
  {
   "cell_type": "code",
   "execution_count": 6,
   "metadata": {},
   "outputs": [
    {
     "name": "stdout",
     "output_type": "stream",
     "text": [
      "Coef:  [-1.96753715 -0.23984359  0.06938638 -0.15742168]\n",
      "R2: 0.9284367271482424\n"
     ]
    }
   ],
   "source": [
    "ridge = Ridge(alpha=100)\n",
    "ridge.fit(X_train, y_train)\n",
    "y_pred = ridge.predict(X_test)\n",
    "print(\"Coef: \", ridge.coef_)\n",
    "print(\"R2:\", r2_score(y_test, y_pred))"
   ]
  },
  {
   "cell_type": "markdown",
   "metadata": {},
   "source": [
    "<b>Note:</b>\n",
    "\n",
    "R2 and coefficients practically do not change in comparison with the linear model."
   ]
  },
  {
   "cell_type": "code",
   "execution_count": 12,
   "metadata": {},
   "outputs": [
    {
     "data": {
      "image/png": "[encoded data removed]",
      "text/plain": [
       "<Figure size 2400x1400 with 1 Axes>"
      ]
     },
     "metadata": {},
     "output_type": "display_data"
    }
   ],
   "source": [
    "## Plotting the dependence of the value of the coefficients and R2 score on the change in the alpha parameter.\n",
    "\n",
    "r2_scrores = []\n",
    "coef_1 = []\n",
    "coef_2 = []\n",
    "coef_3 = []\n",
    "coef_4 = []\n",
    "for i in range(0, 1000000, 1000):\n",
    "  ridge = Ridge(alpha=i)\n",
    "  ridge.fit(X_train, y_train)\n",
    "  y_pred = ridge.predict(X_test)\n",
    "  r2_scrores.append(r2_score(y_test, y_pred))\n",
    "  coefs = ridge.coef_\n",
    "  coef_1.append(coefs[0])\n",
    "  coef_2.append(coefs[1])\n",
    "  coef_3.append(coefs[2])\n",
    "  coef_4.append(coefs[3])\n",
    "\n",
    "x = []\n",
    "for i in range(0, 1000000, 1000):\n",
    "  x.append(i)\n",
    "plt.figure(figsize=[24,14])\n",
    "plt.grid()\n",
    "plt.plot(x, r2_scrores)\n",
    "plt.show()"
   ]
  },
  {
   "cell_type": "markdown",
   "metadata": {},
   "source": [
    "<b>Note:</b>\n",
    "\n",
    "As the hyperparameter alpha increases, the R2 score metric decreases, which indicates a deterioration in the quality of the regression."
   ]
  },
  {
   "cell_type": "code",
   "execution_count": 8,
   "metadata": {},
   "outputs": [
    {
     "data": {
      "image/png": "[encoded data removed]",
      "text/plain": [
       "<Figure size 2400x1400 with 1 Axes>"
      ]
     },
     "metadata": {},
     "output_type": "display_data"
    }
   ],
   "source": [
    "plt.figure(figsize=[24,14])\n",
    "plt.grid()\n",
    "plt.plot(x, coef_1, color='r')\n",
    "plt.plot(x, coef_2, color='b')\n",
    "plt.plot(x, coef_3, color='g')\n",
    "plt.plot(x, coef_4, color='y')\n",
    "plt.show()"
   ]
  },
  {
   "cell_type": "markdown",
   "metadata": {},
   "source": [
    "<b>Note:</b>\n",
    "\n",
    "With an increase in the hyperparameter alpha, the coefficients of the signs of temperature and the effect of vacuum increase, that is, they increase their significance. In addition, the coefficient in front of the sign \"ambient pressure\" first slightly decreases, and then increases again. However, these fluctuations are quite small. The \"moisture\" coefficient has the opposite trend: first there is an increase and then a decrease, but these changes are also quite insignificant."
   ]
  },
  {
   "attachments": {},
   "cell_type": "markdown",
   "metadata": {},
   "source": [
    "### Lasso regression"
   ]
  },
  {
   "cell_type": "code",
   "execution_count": 9,
   "metadata": {},
   "outputs": [
    {
     "name": "stdout",
     "output_type": "stream",
     "text": [
      "Coef:  [-1.37952531 -0.4259584   0.         -0.        ]\n",
      "R2: 0.9079157332937575\n"
     ]
    }
   ],
   "source": [
    "lasso = Lasso(alpha=10)\n",
    "lasso.fit(X_train, y_train)\n",
    "y_pred = lasso.predict(X_test)\n",
    "print(\"Coef: \", lasso.coef_)\n",
    "print(\"R2:\", r2_score(y_test, y_pred))"
   ]
  },
  {
   "cell_type": "markdown",
   "metadata": {},
   "source": [
    "<b>Note:</b>\n",
    "\n",
    "Significant changes can be seen. First, there was a worsening of the regression compared to the previous calculations. Secondly, the coefficients have also changed. Lasso reduced the significance of the \"temperature\" feature by ~0.6, but increased the coefficient in front of the \"ambient pressure\" feature by ~0.2. In addition, Lasso determined the last two features to be insignificant and nullified their coefficients."
   ]
  },
  {
   "cell_type": "code",
   "execution_count": 13,
   "metadata": {},
   "outputs": [
    {
     "data": {
      "image/png": "[encoded data removed]",
      "text/plain": [
       "<Figure size 2400x1400 with 1 Axes>"
      ]
     },
     "metadata": {},
     "output_type": "display_data"
    }
   ],
   "source": [
    "## Plotting the dependence of the value of the coefficients and R2 score on the change in the alpha parameter.\n",
    "r2_scrores = []\n",
    "coef_1 = []\n",
    "coef_2 = []\n",
    "coef_3 = []\n",
    "coef_4 = []\n",
    "for i in range(1, 190000, 100):\n",
    "  lasso = Lasso(alpha=i/1000)\n",
    "  lasso.fit(X_train, y_train)\n",
    "  y_pred = lasso.predict(X_test)\n",
    "  r2_scrores.append(r2_score(y_test, y_pred))\n",
    "  coefs = lasso.coef_\n",
    "  coef_1.append(coefs[0])\n",
    "  coef_2.append(coefs[1])\n",
    "  coef_3.append(coefs[2])\n",
    "  coef_4.append(coefs[3])\n",
    "\n",
    "x = []\n",
    "for i in range(1, 190000, 100):\n",
    "  x.append(i/1000)\n",
    "plt.figure(figsize=[24,14])\n",
    "plt.grid()\n",
    "plt.plot(x, r2_scrores)\n",
    "plt.show()"
   ]
  },
  {
   "cell_type": "markdown",
   "metadata": {},
   "source": [
    "<b>Note:</b>\n",
    "\n",
    "It can be noted that the quality of the regression decreases with increasing alpha. This decline does not occur evenly, but periodically with a slight increase."
   ]
  },
  {
   "cell_type": "code",
   "execution_count": 11,
   "metadata": {},
   "outputs": [
    {
     "data": {
      "image/png": "[encoded data removed]",
      "text/plain": [
       "<Figure size 2400x1400 with 1 Axes>"
      ]
     },
     "metadata": {},
     "output_type": "display_data"
    }
   ],
   "source": [
    "plt.figure(figsize=[24,14])\n",
    "plt.grid()\n",
    "plt.plot(x, coef_1, color='r')\n",
    "plt.plot(x, coef_2, color='b')\n",
    "plt.plot(x, coef_3, color='g')\n",
    "plt.plot(x, coef_4, color='y')\n",
    "plt.show()"
   ]
  },
  {
   "cell_type": "markdown",
   "metadata": {},
   "source": [
    "<b>Note:</b>\n",
    "\n",
    "The general trend is that increasing the alpha parameter results in a sparse model with fewer coefficients, since some coefficients may become zero and therefore be excluded from the model.\n",
    "\n",
    "The first coefficient vanished at the sign \"humidity\", then the coefficient of the sign \"vacuum\". After that, the coefficient of the attribute \"temperature\" was reset to zero, and the most recent coefficient of the attribute \"atmospheric pressure\"."
   ]
  },
  {
   "cell_type": "markdown",
   "metadata": {},
   "source": [
    "## dataset_2"
   ]
  },
  {
   "cell_type": "code",
   "execution_count": 14,
   "metadata": {},
   "outputs": [
    {
     "data": {
      "text/html": [
       "<div>\n",
       "<style scoped>\n",
       "    .dataframe tbody tr th:only-of-type {\n",
       "        vertical-align: middle;\n",
       "    }\n",
       "\n",
       "    .dataframe tbody tr th {\n",
       "        vertical-align: top;\n",
       "    }\n",
       "\n",
       "    .dataframe thead th {\n",
       "        text-align: right;\n",
       "    }\n",
       "</style>\n",
       "<table border=\"1\" class=\"dataframe\">\n",
       "  <thead>\n",
       "    <tr style=\"text-align: right;\">\n",
       "      <th></th>\n",
       "      <th>800</th>\n",
       "      <th>0</th>\n",
       "      <th>0.3048</th>\n",
       "      <th>71.3</th>\n",
       "      <th>0.00266337</th>\n",
       "      <th>126.201</th>\n",
       "    </tr>\n",
       "  </thead>\n",
       "  <tbody>\n",
       "    <tr>\n",
       "      <th>0</th>\n",
       "      <td>1000</td>\n",
       "      <td>0.0</td>\n",
       "      <td>0.3048</td>\n",
       "      <td>71.3</td>\n",
       "      <td>0.002663</td>\n",
       "      <td>125.201</td>\n",
       "    </tr>\n",
       "    <tr>\n",
       "      <th>1</th>\n",
       "      <td>1250</td>\n",
       "      <td>0.0</td>\n",
       "      <td>0.3048</td>\n",
       "      <td>71.3</td>\n",
       "      <td>0.002663</td>\n",
       "      <td>125.951</td>\n",
       "    </tr>\n",
       "    <tr>\n",
       "      <th>2</th>\n",
       "      <td>1600</td>\n",
       "      <td>0.0</td>\n",
       "      <td>0.3048</td>\n",
       "      <td>71.3</td>\n",
       "      <td>0.002663</td>\n",
       "      <td>127.591</td>\n",
       "    </tr>\n",
       "    <tr>\n",
       "      <th>3</th>\n",
       "      <td>2000</td>\n",
       "      <td>0.0</td>\n",
       "      <td>0.3048</td>\n",
       "      <td>71.3</td>\n",
       "      <td>0.002663</td>\n",
       "      <td>127.461</td>\n",
       "    </tr>\n",
       "    <tr>\n",
       "      <th>4</th>\n",
       "      <td>2500</td>\n",
       "      <td>0.0</td>\n",
       "      <td>0.3048</td>\n",
       "      <td>71.3</td>\n",
       "      <td>0.002663</td>\n",
       "      <td>125.571</td>\n",
       "    </tr>\n",
       "    <tr>\n",
       "      <th>...</th>\n",
       "      <td>...</td>\n",
       "      <td>...</td>\n",
       "      <td>...</td>\n",
       "      <td>...</td>\n",
       "      <td>...</td>\n",
       "      <td>...</td>\n",
       "    </tr>\n",
       "    <tr>\n",
       "      <th>1497</th>\n",
       "      <td>2500</td>\n",
       "      <td>15.6</td>\n",
       "      <td>0.1016</td>\n",
       "      <td>39.6</td>\n",
       "      <td>0.052849</td>\n",
       "      <td>110.264</td>\n",
       "    </tr>\n",
       "    <tr>\n",
       "      <th>1498</th>\n",
       "      <td>3150</td>\n",
       "      <td>15.6</td>\n",
       "      <td>0.1016</td>\n",
       "      <td>39.6</td>\n",
       "      <td>0.052849</td>\n",
       "      <td>109.254</td>\n",
       "    </tr>\n",
       "    <tr>\n",
       "      <th>1499</th>\n",
       "      <td>4000</td>\n",
       "      <td>15.6</td>\n",
       "      <td>0.1016</td>\n",
       "      <td>39.6</td>\n",
       "      <td>0.052849</td>\n",
       "      <td>106.604</td>\n",
       "    </tr>\n",
       "    <tr>\n",
       "      <th>1500</th>\n",
       "      <td>5000</td>\n",
       "      <td>15.6</td>\n",
       "      <td>0.1016</td>\n",
       "      <td>39.6</td>\n",
       "      <td>0.052849</td>\n",
       "      <td>106.224</td>\n",
       "    </tr>\n",
       "    <tr>\n",
       "      <th>1501</th>\n",
       "      <td>6300</td>\n",
       "      <td>15.6</td>\n",
       "      <td>0.1016</td>\n",
       "      <td>39.6</td>\n",
       "      <td>0.052849</td>\n",
       "      <td>104.204</td>\n",
       "    </tr>\n",
       "  </tbody>\n",
       "</table>\n",
       "<p>1502 rows × 6 columns</p>\n",
       "</div>"
      ],
      "text/plain": [
       "       800     0  0.3048  71.3  0.00266337  126.201\n",
       "0     1000   0.0  0.3048  71.3    0.002663  125.201\n",
       "1     1250   0.0  0.3048  71.3    0.002663  125.951\n",
       "2     1600   0.0  0.3048  71.3    0.002663  127.591\n",
       "3     2000   0.0  0.3048  71.3    0.002663  127.461\n",
       "4     2500   0.0  0.3048  71.3    0.002663  125.571\n",
       "...    ...   ...     ...   ...         ...      ...\n",
       "1497  2500  15.6  0.1016  39.6    0.052849  110.264\n",
       "1498  3150  15.6  0.1016  39.6    0.052849  109.254\n",
       "1499  4000  15.6  0.1016  39.6    0.052849  106.604\n",
       "1500  5000  15.6  0.1016  39.6    0.052849  106.224\n",
       "1501  6300  15.6  0.1016  39.6    0.052849  104.204\n",
       "\n",
       "[1502 rows x 6 columns]"
      ]
     },
     "execution_count": 14,
     "metadata": {},
     "output_type": "execute_result"
    }
   ],
   "source": [
    "data = pd.read_csv('/Users/olgafrolova/Documents/Data-science(introduction)/datasets/airfoil_self_noise.dat',sep='\\t')\n",
    "data"
   ]
  },
  {
   "cell_type": "code",
   "execution_count": 15,
   "metadata": {},
   "outputs": [
    {
     "data": {
      "text/html": [
       "<div>\n",
       "<style scoped>\n",
       "    .dataframe tbody tr th:only-of-type {\n",
       "        vertical-align: middle;\n",
       "    }\n",
       "\n",
       "    .dataframe tbody tr th {\n",
       "        vertical-align: top;\n",
       "    }\n",
       "\n",
       "    .dataframe thead th {\n",
       "        text-align: right;\n",
       "    }\n",
       "</style>\n",
       "<table border=\"1\" class=\"dataframe\">\n",
       "  <thead>\n",
       "    <tr style=\"text-align: right;\">\n",
       "      <th></th>\n",
       "      <th>FR</th>\n",
       "      <th>AA</th>\n",
       "      <th>CL</th>\n",
       "      <th>FS</th>\n",
       "      <th>SS</th>\n",
       "      <th>L</th>\n",
       "    </tr>\n",
       "  </thead>\n",
       "  <tbody>\n",
       "    <tr>\n",
       "      <th>0</th>\n",
       "      <td>800</td>\n",
       "      <td>0.0</td>\n",
       "      <td>0.3048</td>\n",
       "      <td>71.3</td>\n",
       "      <td>0.002663</td>\n",
       "      <td>126.201</td>\n",
       "    </tr>\n",
       "    <tr>\n",
       "      <th>1</th>\n",
       "      <td>1000</td>\n",
       "      <td>0.0</td>\n",
       "      <td>0.3048</td>\n",
       "      <td>71.3</td>\n",
       "      <td>0.002663</td>\n",
       "      <td>125.201</td>\n",
       "    </tr>\n",
       "    <tr>\n",
       "      <th>2</th>\n",
       "      <td>1250</td>\n",
       "      <td>0.0</td>\n",
       "      <td>0.3048</td>\n",
       "      <td>71.3</td>\n",
       "      <td>0.002663</td>\n",
       "      <td>125.951</td>\n",
       "    </tr>\n",
       "    <tr>\n",
       "      <th>3</th>\n",
       "      <td>1600</td>\n",
       "      <td>0.0</td>\n",
       "      <td>0.3048</td>\n",
       "      <td>71.3</td>\n",
       "      <td>0.002663</td>\n",
       "      <td>127.591</td>\n",
       "    </tr>\n",
       "    <tr>\n",
       "      <th>4</th>\n",
       "      <td>2000</td>\n",
       "      <td>0.0</td>\n",
       "      <td>0.3048</td>\n",
       "      <td>71.3</td>\n",
       "      <td>0.002663</td>\n",
       "      <td>127.461</td>\n",
       "    </tr>\n",
       "    <tr>\n",
       "      <th>...</th>\n",
       "      <td>...</td>\n",
       "      <td>...</td>\n",
       "      <td>...</td>\n",
       "      <td>...</td>\n",
       "      <td>...</td>\n",
       "      <td>...</td>\n",
       "    </tr>\n",
       "    <tr>\n",
       "      <th>1498</th>\n",
       "      <td>2500</td>\n",
       "      <td>15.6</td>\n",
       "      <td>0.1016</td>\n",
       "      <td>39.6</td>\n",
       "      <td>0.052849</td>\n",
       "      <td>110.264</td>\n",
       "    </tr>\n",
       "    <tr>\n",
       "      <th>1499</th>\n",
       "      <td>3150</td>\n",
       "      <td>15.6</td>\n",
       "      <td>0.1016</td>\n",
       "      <td>39.6</td>\n",
       "      <td>0.052849</td>\n",
       "      <td>109.254</td>\n",
       "    </tr>\n",
       "    <tr>\n",
       "      <th>1500</th>\n",
       "      <td>4000</td>\n",
       "      <td>15.6</td>\n",
       "      <td>0.1016</td>\n",
       "      <td>39.6</td>\n",
       "      <td>0.052849</td>\n",
       "      <td>106.604</td>\n",
       "    </tr>\n",
       "    <tr>\n",
       "      <th>1501</th>\n",
       "      <td>5000</td>\n",
       "      <td>15.6</td>\n",
       "      <td>0.1016</td>\n",
       "      <td>39.6</td>\n",
       "      <td>0.052849</td>\n",
       "      <td>106.224</td>\n",
       "    </tr>\n",
       "    <tr>\n",
       "      <th>1502</th>\n",
       "      <td>6300</td>\n",
       "      <td>15.6</td>\n",
       "      <td>0.1016</td>\n",
       "      <td>39.6</td>\n",
       "      <td>0.052849</td>\n",
       "      <td>104.204</td>\n",
       "    </tr>\n",
       "  </tbody>\n",
       "</table>\n",
       "<p>1503 rows × 6 columns</p>\n",
       "</div>"
      ],
      "text/plain": [
       "        FR    AA      CL    FS        SS        L\n",
       "0      800   0.0  0.3048  71.3  0.002663  126.201\n",
       "1     1000   0.0  0.3048  71.3  0.002663  125.201\n",
       "2     1250   0.0  0.3048  71.3  0.002663  125.951\n",
       "3     1600   0.0  0.3048  71.3  0.002663  127.591\n",
       "4     2000   0.0  0.3048  71.3  0.002663  127.461\n",
       "...    ...   ...     ...   ...       ...      ...\n",
       "1498  2500  15.6  0.1016  39.6  0.052849  110.264\n",
       "1499  3150  15.6  0.1016  39.6  0.052849  109.254\n",
       "1500  4000  15.6  0.1016  39.6  0.052849  106.604\n",
       "1501  5000  15.6  0.1016  39.6  0.052849  106.224\n",
       "1502  6300  15.6  0.1016  39.6  0.052849  104.204\n",
       "\n",
       "[1503 rows x 6 columns]"
      ]
     },
     "execution_count": 15,
     "metadata": {},
     "output_type": "execute_result"
    }
   ],
   "source": [
    "## Data preprocessing\n",
    "\n",
    "data.rename(columns={'800': 'FR', '0': 'AA', '0.3048': 'CL', '71.3': 'FS', '0.00266337': 'SS', '126.201': 'L'}, inplace=True)\n",
    "new_row = pd.DataFrame({'FR':800, 'AA':0, 'CL':0.3048,'FS':71.3, 'SS':0.00266337, 'L':126.201},index =[0])\n",
    "data= pd.concat([new_row, data]).reset_index(drop = True)\n",
    "\n",
    "data"
   ]
  },
  {
   "cell_type": "code",
   "execution_count": 16,
   "metadata": {},
   "outputs": [],
   "source": [
    "X = data.drop(['L'],axis=1)\n",
    "y = data['L']\n",
    "X_train, X_test, y_train, y_test = train_test_split(X, y, test_size=0.1)"
   ]
  },
  {
   "cell_type": "code",
   "execution_count": 17,
   "metadata": {},
   "outputs": [
    {
     "data": {
      "text/html": [
       "<div>\n",
       "<style scoped>\n",
       "    .dataframe tbody tr th:only-of-type {\n",
       "        vertical-align: middle;\n",
       "    }\n",
       "\n",
       "    .dataframe tbody tr th {\n",
       "        vertical-align: top;\n",
       "    }\n",
       "\n",
       "    .dataframe thead th {\n",
       "        text-align: right;\n",
       "    }\n",
       "</style>\n",
       "<table border=\"1\" class=\"dataframe\">\n",
       "  <thead>\n",
       "    <tr style=\"text-align: right;\">\n",
       "      <th></th>\n",
       "      <th>FR</th>\n",
       "      <th>AA</th>\n",
       "      <th>CL</th>\n",
       "      <th>FS</th>\n",
       "      <th>SS</th>\n",
       "    </tr>\n",
       "  </thead>\n",
       "  <tbody>\n",
       "    <tr>\n",
       "      <th>1250</th>\n",
       "      <td>6300</td>\n",
       "      <td>0.0</td>\n",
       "      <td>0.1016</td>\n",
       "      <td>71.3</td>\n",
       "      <td>0.001211</td>\n",
       "    </tr>\n",
       "    <tr>\n",
       "      <th>809</th>\n",
       "      <td>630</td>\n",
       "      <td>8.4</td>\n",
       "      <td>0.0508</td>\n",
       "      <td>55.5</td>\n",
       "      <td>0.005449</td>\n",
       "    </tr>\n",
       "    <tr>\n",
       "      <th>24</th>\n",
       "      <td>5000</td>\n",
       "      <td>0.0</td>\n",
       "      <td>0.3048</td>\n",
       "      <td>55.5</td>\n",
       "      <td>0.002831</td>\n",
       "    </tr>\n",
       "    <tr>\n",
       "      <th>1053</th>\n",
       "      <td>4000</td>\n",
       "      <td>4.8</td>\n",
       "      <td>0.0254</td>\n",
       "      <td>31.7</td>\n",
       "      <td>0.000931</td>\n",
       "    </tr>\n",
       "    <tr>\n",
       "      <th>1062</th>\n",
       "      <td>2000</td>\n",
       "      <td>9.5</td>\n",
       "      <td>0.0254</td>\n",
       "      <td>71.3</td>\n",
       "      <td>0.004207</td>\n",
       "    </tr>\n",
       "    <tr>\n",
       "      <th>...</th>\n",
       "      <td>...</td>\n",
       "      <td>...</td>\n",
       "      <td>...</td>\n",
       "      <td>...</td>\n",
       "      <td>...</td>\n",
       "    </tr>\n",
       "    <tr>\n",
       "      <th>630</th>\n",
       "      <td>250</td>\n",
       "      <td>9.9</td>\n",
       "      <td>0.1524</td>\n",
       "      <td>71.3</td>\n",
       "      <td>0.019300</td>\n",
       "    </tr>\n",
       "    <tr>\n",
       "      <th>1414</th>\n",
       "      <td>630</td>\n",
       "      <td>12.3</td>\n",
       "      <td>0.1016</td>\n",
       "      <td>71.3</td>\n",
       "      <td>0.033779</td>\n",
       "    </tr>\n",
       "    <tr>\n",
       "      <th>490</th>\n",
       "      <td>2000</td>\n",
       "      <td>0.0</td>\n",
       "      <td>0.1524</td>\n",
       "      <td>39.6</td>\n",
       "      <td>0.001933</td>\n",
       "    </tr>\n",
       "    <tr>\n",
       "      <th>684</th>\n",
       "      <td>1000</td>\n",
       "      <td>9.9</td>\n",
       "      <td>0.1524</td>\n",
       "      <td>31.7</td>\n",
       "      <td>0.025278</td>\n",
       "    </tr>\n",
       "    <tr>\n",
       "      <th>1020</th>\n",
       "      <td>2500</td>\n",
       "      <td>4.8</td>\n",
       "      <td>0.0254</td>\n",
       "      <td>55.5</td>\n",
       "      <td>0.000873</td>\n",
       "    </tr>\n",
       "  </tbody>\n",
       "</table>\n",
       "<p>151 rows × 5 columns</p>\n",
       "</div>"
      ],
      "text/plain": [
       "        FR    AA      CL    FS        SS\n",
       "1250  6300   0.0  0.1016  71.3  0.001211\n",
       "809    630   8.4  0.0508  55.5  0.005449\n",
       "24    5000   0.0  0.3048  55.5  0.002831\n",
       "1053  4000   4.8  0.0254  31.7  0.000931\n",
       "1062  2000   9.5  0.0254  71.3  0.004207\n",
       "...    ...   ...     ...   ...       ...\n",
       "630    250   9.9  0.1524  71.3  0.019300\n",
       "1414   630  12.3  0.1016  71.3  0.033779\n",
       "490   2000   0.0  0.1524  39.6  0.001933\n",
       "684   1000   9.9  0.1524  31.7  0.025278\n",
       "1020  2500   4.8  0.0254  55.5  0.000873\n",
       "\n",
       "[151 rows x 5 columns]"
      ]
     },
     "execution_count": 17,
     "metadata": {},
     "output_type": "execute_result"
    }
   ],
   "source": [
    "X_test"
   ]
  },
  {
   "cell_type": "markdown",
   "metadata": {},
   "source": [
    "\n",
    "Comparison of both regression models that support CV."
   ]
  },
  {
   "cell_type": "code",
   "execution_count": 19,
   "metadata": {},
   "outputs": [],
   "source": [
    "best_alphas=[]\n",
    "r2=[]\n",
    "r2_max = 0.0"
   ]
  },
  {
   "cell_type": "code",
   "execution_count": 22,
   "metadata": {},
   "outputs": [
    {
     "name": "stdout",
     "output_type": "stream",
     "text": [
      "\n",
      "Ridge\n",
      "CV:  3\n",
      "R2:  0.566764624250054\n",
      "Coef:  [-1.2700000e-03 -4.3514000e-01 -3.5773560e+01  1.0106000e-01\n",
      " -1.4079334e+02]\n",
      "\n",
      "\n",
      "CV:  5\n",
      "R2:  0.549841052011299\n",
      "Coef:  [-1.2700000e-03 -4.0635000e-01 -3.5152320e+01  1.0045000e-01\n",
      " -1.5394202e+02]\n",
      "\n",
      "\n",
      "CV:  10\n",
      "R2:  0.5879912372951988\n",
      "Coef:  [-1.2600000e-03 -4.3233000e-01 -3.5517660e+01  9.9420000e-02\n",
      " -1.3956157e+02]\n",
      "\n",
      "\n",
      "\n",
      "Lasso\n",
      "CV:  3\n",
      "R2: 0.5880629786963707\n",
      "Coef:  [-1.2500000e-03 -4.2011000e-01 -3.5324450e+01  9.9090000e-02\n",
      " -1.4595155e+02]\n",
      "\n",
      "\n",
      "CV:  5\n",
      "R2: 0.5880629786963707\n",
      "Coef:  [-1.2500000e-03 -4.2011000e-01 -3.5324450e+01  9.9090000e-02\n",
      " -1.4595155e+02]\n",
      "\n",
      "\n",
      "CV:  10\n",
      "R2: 0.5880629786963707\n",
      "Coef:  [-1.2500000e-03 -4.2011000e-01 -3.5324450e+01  9.9090000e-02\n",
      " -1.4595155e+02]\n",
      "\n",
      "\n",
      "\n",
      "Max r2_score =  0.5880629786963707\n"
     ]
    }
   ],
   "source": [
    "alphas = np.arange(0.0001, 20, 0.005)\n",
    "print(\"\\nRidge\")\n",
    "for cvn in [3,5,10]:\n",
    "  data = pd.read_csv('/Users/olgafrolova/Documents/Data-science(introduction)/datasets/airfoil_self_noise.dat',sep='\\t')\n",
    "  data.rename(columns={'800': 'FR', '0': 'AA', '0.3048': 'CL', '71.3': 'FS', '0.00266337': 'SS', '126.201': 'L'}, inplace=True)\n",
    "  new_row = pd.DataFrame({'FR':800, 'AA':0, 'CL':0.3048,'FS':71.3, 'SS':0.00266337, 'L':126.201},index =[0])  \n",
    "  data = pd.concat([new_row, data]).reset_index(drop = True)\n",
    "  X = data.drop(['L'],axis=1)\n",
    "  y = data['L']\n",
    "  X_train, X_test, y_train, y_test = train_test_split(X, y, test_size=0.1)\n",
    "  ridge_ = RidgeCV(alphas = alphas,  scoring = 'r2', cv=cvn)\n",
    "  ridge_.fit(X_train, y_train)\n",
    "  y_pred = ridge_.predict(X_test)\n",
    "  r2s = r2_score(y_test, y_pred)\n",
    "  print(\"CV: \", cvn)\n",
    "  print(\"R2: \", r2s)\n",
    "  if r2s > r2_max:\n",
    "    r2_max = r2s\n",
    "  for i in [0,1,2,3,4]:\n",
    "    ridge_.coef_[i]=round(ridge_.coef_[i], 5)\n",
    "  print(\"Coef: \", ridge_.coef_)\n",
    "  best_alphas.append({ridge_.alpha_, cvn})\n",
    "  r2.append(r2s)\n",
    "  print(\"\\n\")\n",
    "\n",
    "print(\"\\nLasso\")\n",
    "for cvn in [3,5,10]:\n",
    "  data = pd.read_csv('/Users/olgafrolova/Documents/Data-science(introduction)/datasets/airfoil_self_noise.dat',sep='\\t')\n",
    "  data.rename(columns={'800': 'FR', '0': 'AA', '0.3048': 'CL', '71.3': 'FS', '0.00266337': 'SS', '126.201': 'L'}, inplace=True)\n",
    "  new_row = pd.DataFrame({'FR':800, 'AA':0, 'CL':0.3048,'FS':71.3, 'SS':0.00266337, 'L':126.201},index =[0])  \n",
    "  data = pd.concat([new_row, data]).reset_index(drop = True)\n",
    "  X = data.drop(['L'],axis=1)\n",
    "  y = data['L']\n",
    "  lasso_ = LassoCV(alphas = alphas, cv=cvn)\n",
    "  lasso_.fit(X_train, y_train)\n",
    "  y_pred = lasso_.predict(X_test)\n",
    "  r2s = r2_score(y_test, y_pred)\n",
    "  print(\"CV: \", cvn)\n",
    "  print(\"R2:\", r2s)\n",
    "  if r2s > r2_max:\n",
    "    r2_max = r2s\n",
    "  for i in [0,1,2,3,4]:\n",
    "    lasso_.coef_[i]=round(lasso_.coef_[i], 5)\n",
    "  print(\"Coef: \", lasso_.coef_)\n",
    "  best_alphas.append({lasso_.alpha_, cvn})\n",
    "  r2.append(r2s)\n",
    "  print(\"\\n\")\n",
    "\n",
    "print(\"\\nMax r2_score = \", r2_max)"
   ]
  },
  {
   "cell_type": "markdown",
   "metadata": {},
   "source": [
    "<b>Note:</b>\n",
    "\n",
    "Different CV values ​​give different results for Ridge, but for Lasso there is no effect and the values ​​are the same."
   ]
  },
  {
   "cell_type": "code",
   "execution_count": 24,
   "metadata": {},
   "outputs": [
    {
     "name": "stdout",
     "output_type": "stream",
     "text": [
      "          FR        AA        CL        FS        SS         L\n",
      "FR  1.000000 -0.272765 -0.003661  0.133664 -0.230107 -0.390711\n",
      "AA -0.272765  1.000000 -0.504868  0.058760  0.753394 -0.156108\n",
      "CL -0.003661 -0.504868  1.000000  0.003787 -0.220842 -0.236162\n",
      "FS  0.133664  0.058760  0.003787  1.000000 -0.003974  0.125103\n",
      "SS -0.230107  0.753394 -0.220842 -0.003974  1.000000 -0.312670\n",
      "L  -0.390711 -0.156108 -0.236162  0.125103 -0.312670  1.000000\n",
      "\n",
      "Ridge\n",
      "CV:  3\n",
      "R2:  0.5129395919965403\n",
      "Coef:  [-1.280000e-03 -7.153400e-01 -4.094985e+01  1.110600e-01]\n",
      "\n",
      "\n",
      "CV:  5\n",
      "R2:  0.5468975903505557\n",
      "Coef:  [-1.290000e-03 -7.049900e-01 -3.977843e+01  1.040700e-01]\n",
      "\n",
      "\n",
      "CV:  10\n",
      "R2:  0.46992956320338053\n",
      "Coef:  [-1.300000e-03 -7.034900e-01 -3.963818e+01  1.115900e-01]\n",
      "\n",
      "\n",
      "\n",
      "Lasso\n",
      "CV:  3\n",
      "R2: 0.47017632664949327\n",
      "Coef:  [-1.300000e-03 -7.056900e-01 -3.988097e+01  1.116600e-01]\n",
      "\n",
      "\n",
      "CV:  5\n",
      "R2: 0.47017632664949327\n",
      "Coef:  [-1.300000e-03 -7.056900e-01 -3.988097e+01  1.116600e-01]\n",
      "\n",
      "\n",
      "CV:  10\n",
      "R2: 0.47017632664949327\n",
      "Coef:  [-1.300000e-03 -7.056900e-01 -3.988097e+01  1.116600e-01]\n",
      "\n",
      "\n",
      "\n",
      "Max r2_score =  0.5880629786963707\n"
     ]
    }
   ],
   "source": [
    "## removing data that least correlates with the predicted value.\n",
    "\n",
    "print(data.corr())\n",
    "\n",
    "print(\"\\nRidge\")\n",
    "for cvn in [3,5,10]:\n",
    "  data = pd.read_csv('/Users/olgafrolova/Documents/Data-science(introduction)/datasets/airfoil_self_noise.dat',sep='\\t')\n",
    "  data.rename(columns={'800': 'FR', '0': 'AA', '0.3048': 'CL', '71.3': 'FS', '0.00266337': 'SS', '126.201': 'L'}, inplace=True)\n",
    "  new_row = pd.DataFrame({'FR':800, 'AA':0, 'CL':0.3048,'FS':71.3, 'SS':0.00266337, 'L':126.201},index =[0])  \n",
    "  data = pd.concat([new_row, data]).reset_index(drop = True)\n",
    "  X = data.drop(['SS', 'L'],axis=1)\n",
    "  y = data['L']\n",
    "  X_train, X_test, y_train, y_test = train_test_split(X, y, test_size=0.1)\n",
    "  ridge_ = RidgeCV(alphas = alphas,  scoring = 'r2', cv=cvn)\n",
    "  ridge_.fit(X_train, y_train)\n",
    "  y_pred = ridge_.predict(X_test)\n",
    "  r2s = r2_score(y_test, y_pred)\n",
    "  print(\"CV: \", cvn)\n",
    "  print(\"R2: \", r2s)\n",
    "  if r2s > r2_max:\n",
    "    r2_max = r2s\n",
    "  for i in [0,1,2,3]:\n",
    "    ridge_.coef_[i]=round(ridge_.coef_[i], 5)\n",
    "  print(\"Coef: \", ridge_.coef_)\n",
    "  best_alphas.append({ridge_.alpha_, cvn})\n",
    "  r2.append(r2s)\n",
    "  print(\"\\n\")\n",
    "\n",
    "print(\"\\nLasso\")\n",
    "for cvn in [3,5,10]:\n",
    "  data = pd.read_csv('/Users/olgafrolova/Documents/Data-science(introduction)/datasets/airfoil_self_noise.dat',sep='\\t')\n",
    "  data.rename(columns={'800': 'FR', '0': 'AA', '0.3048': 'CL', '71.3': 'FS', '0.00266337': 'SS', '126.201': 'L'}, inplace=True)\n",
    "  new_row = pd.DataFrame({'FR':800, 'AA':0, 'CL':0.3048,'FS':71.3, 'SS':0.00266337, 'L':126.201},index =[0])  \n",
    "  data = pd.concat([new_row, data]).reset_index(drop = True)\n",
    "  X = data.drop(['SS','L'],axis=1)\n",
    "  y = data['L']\n",
    "  lasso_ = LassoCV(alphas = alphas, cv=cvn)\n",
    "  lasso_.fit(X_train, y_train)\n",
    "  y_pred = lasso_.predict(X_test)\n",
    "  r2s = r2_score(y_test, y_pred)\n",
    "  print(\"CV: \", cvn)\n",
    "  print(\"R2:\", r2s)\n",
    "  if r2s > r2_max:\n",
    "    r2_max = r2s\n",
    "  for i in [0,1,2,3]:\n",
    "    lasso_.coef_[i]=round(lasso_.coef_[i], 5)\n",
    "  print(\"Coef: \", lasso_.coef_)\n",
    "  best_alphas.append({lasso_.alpha_, cvn})\n",
    "  r2.append(r2s)\n",
    "  print(\"\\n\")\n",
    "\n",
    "print(\"\\nMax r2_score = \", r2_max)"
   ]
  },
  {
   "cell_type": "markdown",
   "metadata": {},
   "source": [
    "<b>Note:</b>\n",
    "\n",
    "\n",
    "Thus, removing any (checked all) from the columns does not give an increase in R2_score for models"
   ]
  },
  {
   "cell_type": "code",
   "execution_count": 25,
   "metadata": {},
   "outputs": [
    {
     "data": {
      "text/html": [
       "<div>\n",
       "<style scoped>\n",
       "    .dataframe tbody tr th:only-of-type {\n",
       "        vertical-align: middle;\n",
       "    }\n",
       "\n",
       "    .dataframe tbody tr th {\n",
       "        vertical-align: top;\n",
       "    }\n",
       "\n",
       "    .dataframe thead th {\n",
       "        text-align: right;\n",
       "    }\n",
       "</style>\n",
       "<table border=\"1\" class=\"dataframe\">\n",
       "  <thead>\n",
       "    <tr style=\"text-align: right;\">\n",
       "      <th></th>\n",
       "      <th>FR</th>\n",
       "      <th>AA</th>\n",
       "      <th>CL</th>\n",
       "      <th>FS</th>\n",
       "      <th>SS</th>\n",
       "      <th>L</th>\n",
       "    </tr>\n",
       "  </thead>\n",
       "  <tbody>\n",
       "    <tr>\n",
       "      <th>0</th>\n",
       "      <td>800.0</td>\n",
       "      <td>0.0</td>\n",
       "      <td>0.3048</td>\n",
       "      <td>71.3</td>\n",
       "      <td>0.002663</td>\n",
       "      <td>126.201</td>\n",
       "    </tr>\n",
       "    <tr>\n",
       "      <th>1</th>\n",
       "      <td>1000.0</td>\n",
       "      <td>0.0</td>\n",
       "      <td>0.3048</td>\n",
       "      <td>71.3</td>\n",
       "      <td>0.002663</td>\n",
       "      <td>125.201</td>\n",
       "    </tr>\n",
       "    <tr>\n",
       "      <th>2</th>\n",
       "      <td>1250.0</td>\n",
       "      <td>0.0</td>\n",
       "      <td>0.3048</td>\n",
       "      <td>71.3</td>\n",
       "      <td>0.002663</td>\n",
       "      <td>125.951</td>\n",
       "    </tr>\n",
       "    <tr>\n",
       "      <th>3</th>\n",
       "      <td>1600.0</td>\n",
       "      <td>0.0</td>\n",
       "      <td>0.3048</td>\n",
       "      <td>71.3</td>\n",
       "      <td>0.002663</td>\n",
       "      <td>127.591</td>\n",
       "    </tr>\n",
       "    <tr>\n",
       "      <th>4</th>\n",
       "      <td>2000.0</td>\n",
       "      <td>0.0</td>\n",
       "      <td>0.3048</td>\n",
       "      <td>71.3</td>\n",
       "      <td>0.002663</td>\n",
       "      <td>127.461</td>\n",
       "    </tr>\n",
       "    <tr>\n",
       "      <th>...</th>\n",
       "      <td>...</td>\n",
       "      <td>...</td>\n",
       "      <td>...</td>\n",
       "      <td>...</td>\n",
       "      <td>...</td>\n",
       "      <td>...</td>\n",
       "    </tr>\n",
       "    <tr>\n",
       "      <th>1498</th>\n",
       "      <td>2500.0</td>\n",
       "      <td>15.6</td>\n",
       "      <td>0.1016</td>\n",
       "      <td>39.6</td>\n",
       "      <td>0.052849</td>\n",
       "      <td>110.264</td>\n",
       "    </tr>\n",
       "    <tr>\n",
       "      <th>1499</th>\n",
       "      <td>3150.0</td>\n",
       "      <td>15.6</td>\n",
       "      <td>0.1016</td>\n",
       "      <td>39.6</td>\n",
       "      <td>0.052849</td>\n",
       "      <td>109.254</td>\n",
       "    </tr>\n",
       "    <tr>\n",
       "      <th>1500</th>\n",
       "      <td>4000.0</td>\n",
       "      <td>15.6</td>\n",
       "      <td>0.1016</td>\n",
       "      <td>39.6</td>\n",
       "      <td>0.052849</td>\n",
       "      <td>106.604</td>\n",
       "    </tr>\n",
       "    <tr>\n",
       "      <th>1501</th>\n",
       "      <td>5000.0</td>\n",
       "      <td>15.6</td>\n",
       "      <td>0.1016</td>\n",
       "      <td>39.6</td>\n",
       "      <td>0.052849</td>\n",
       "      <td>106.224</td>\n",
       "    </tr>\n",
       "    <tr>\n",
       "      <th>1502</th>\n",
       "      <td>6300.0</td>\n",
       "      <td>15.6</td>\n",
       "      <td>0.1016</td>\n",
       "      <td>39.6</td>\n",
       "      <td>0.052849</td>\n",
       "      <td>104.204</td>\n",
       "    </tr>\n",
       "  </tbody>\n",
       "</table>\n",
       "<p>1459 rows × 6 columns</p>\n",
       "</div>"
      ],
      "text/plain": [
       "          FR    AA      CL    FS        SS        L\n",
       "0      800.0   0.0  0.3048  71.3  0.002663  126.201\n",
       "1     1000.0   0.0  0.3048  71.3  0.002663  125.201\n",
       "2     1250.0   0.0  0.3048  71.3  0.002663  125.951\n",
       "3     1600.0   0.0  0.3048  71.3  0.002663  127.591\n",
       "4     2000.0   0.0  0.3048  71.3  0.002663  127.461\n",
       "...      ...   ...     ...   ...       ...      ...\n",
       "1498  2500.0  15.6  0.1016  39.6  0.052849  110.264\n",
       "1499  3150.0  15.6  0.1016  39.6  0.052849  109.254\n",
       "1500  4000.0  15.6  0.1016  39.6  0.052849  106.604\n",
       "1501  5000.0  15.6  0.1016  39.6  0.052849  106.224\n",
       "1502  6300.0  15.6  0.1016  39.6  0.052849  104.204\n",
       "\n",
       "[1459 rows x 6 columns]"
      ]
     },
     "execution_count": 25,
     "metadata": {},
     "output_type": "execute_result"
    }
   ],
   "source": [
    "## removing outliers to keep the data cleaner\n",
    "CleanData = pd.read_csv('/Users/olgafrolova/Documents/Data-science(introduction)/datasets/airfoil_self_noise.dat',sep='\\t')\n",
    "CleanData.rename(columns={'800': 'FR', '0': 'AA', '0.3048': 'CL', '71.3': 'FS', '0.00266337': 'SS', '126.201': 'L'}, inplace=True)\n",
    "new_row = pd.DataFrame({'FR':800, 'AA':0, 'CL':0.3048,'FS':71.3, 'SS':0.00266337, 'L':126.201},index =[0])\n",
    "CleanData= pd.concat([new_row, CleanData]).reset_index(drop = True)\n",
    "DataColumns = [\"FR\", \"AA\", 'CL', \"FS\", \"SS\", \"L\"]\n",
    "\n",
    "for x in DataColumns:\n",
    "  q95 = CleanData[x].quantile(q=0.90)\n",
    "  q05 = CleanData[x].quantile(q=0.10)\n",
    "\n",
    "  intr_qr = q95-q05\n",
    "\n",
    "  max = q95+(intr_qr)\n",
    "  min = q05-(intr_qr)\n",
    "\n",
    "  CleanData.loc[CleanData[x] < min,x] = np.nan\n",
    "  CleanData.loc[CleanData[x] > max,x] = np.nan\n",
    "\n",
    "CleanData = CleanData.dropna(axis=0)\n",
    "CleanData\n"
   ]
  },
  {
   "cell_type": "code",
   "execution_count": 26,
   "metadata": {},
   "outputs": [
    {
     "name": "stdout",
     "output_type": "stream",
     "text": [
      "\n",
      "Ridge\n",
      "CV:  3\n",
      "R2:  0.5916594934443749\n",
      "Coef:  [-1.5400000e-03 -4.2786000e-01 -3.4287620e+01  1.0363000e-01\n",
      " -1.4293213e+02]\n",
      "\n",
      "\n",
      "CV:  5\n",
      "R2:  0.5959047026287578\n",
      "Coef:  [-1.5500000e-03 -4.0374000e-01 -3.3193230e+01  1.0066000e-01\n",
      " -1.4750414e+02]\n",
      "\n",
      "\n",
      "CV:  10\n",
      "R2:  0.46245155874640687\n",
      "Coef:  [-1.5500000e-03 -4.1747000e-01 -3.4738260e+01  1.0224000e-01\n",
      " -1.4792628e+02]\n",
      "\n",
      "\n",
      "\n",
      "Lasso\n",
      "CV:  3\n",
      "R2: 0.4555595962770793\n",
      "Coef:  [-1.5300000e-03 -4.1728000e-01 -3.4511930e+01  9.6090000e-02\n",
      " -1.4768404e+02]\n",
      "\n",
      "\n",
      "CV:  5\n",
      "R2: 0.39083284628070625\n",
      "Coef:  [-1.5800000e-03 -4.0074000e-01 -3.3800610e+01  9.6940000e-02\n",
      " -1.6116731e+02]\n",
      "\n",
      "\n",
      "CV:  10\n",
      "R2: 0.49914222285832066\n",
      "Coef:  [-1.570000e-03 -4.074400e-01 -3.364612e+01  9.810000e-02 -1.523406e+02]\n",
      "\n",
      "\n",
      "\n",
      "Max r2_score =  0.5959047026287578\n"
     ]
    }
   ],
   "source": [
    "X = CleanData.drop(['L'],axis=1)\n",
    "y = CleanData['L']\n",
    "X_train, X_test, y_train, y_test = train_test_split(X, y, test_size=0.10)\n",
    "print(\"\\nRidge\")\n",
    "for cvn in [3,5,10]:\n",
    "  X = CleanData.drop(['L'],axis=1)\n",
    "  y = CleanData['L']\n",
    "  X_train, X_test, y_train, y_test = train_test_split(X, y, test_size=0.10)\n",
    "  ridge_ = RidgeCV(alphas = alphas,  scoring = 'r2', cv=cvn)\n",
    "  ridge_.fit(X_train, y_train)\n",
    "  y_pred = ridge_.predict(X_test)\n",
    "  r2s = r2_score(y_test, y_pred)\n",
    "  print(\"CV: \", cvn)\n",
    "  print(\"R2: \", r2s)\n",
    "  if r2s > r2_max:\n",
    "    r2_max = r2s\n",
    "  for i in [0,1,2,3,4]:\n",
    "    ridge_.coef_[i]=round(ridge_.coef_[i], 5)\n",
    "  print(\"Coef: \", ridge_.coef_)\n",
    "  best_alphas.append({ridge_.alpha_, cvn})\n",
    "  r2.append(r2s)\n",
    "  print(\"\\n\")\n",
    "\n",
    "print(\"\\nLasso\")\n",
    "for cvn in [3,5,10]:\n",
    "  X = CleanData.drop(['L'],axis=1)\n",
    "  y = CleanData['L']\n",
    "  X_train, X_test, y_train, y_test = train_test_split(X, y, test_size=0.10)\n",
    "  lasso_ = LassoCV(alphas = alphas, cv=cvn)\n",
    "  lasso_.fit(X_train, y_train)\n",
    "  y_pred = lasso_.predict(X_test)\n",
    "  r2s = r2_score(y_test, y_pred)\n",
    "  print(\"CV: \", cvn)\n",
    "  print(\"R2:\", r2s)\n",
    "  if r2s > r2_max:\n",
    "    r2_max = r2s\n",
    "  for i in [0,1,2,3,4]:\n",
    "    lasso_.coef_[i]=round(lasso_.coef_[i], 5)\n",
    "  print(\"Coef: \", lasso_.coef_)\n",
    "  best_alphas.append({lasso_.alpha_, cvn})\n",
    "  r2.append(r2s)\n",
    "  print(\"\\n\")\n",
    "\n",
    "print(\"\\nMax r2_score = \", r2_max)"
   ]
  },
  {
   "cell_type": "markdown",
   "metadata": {},
   "source": [
    "<b>Note:</b>\n",
    "\n",
    "Clearing data from outliers - increased R2_score for the test sample to (0.62 with Ridge and CV=3), after restarting the value was lost and the value for Lasso = 0.57 for the test sample became the maximum. It is worth noting that now different values ​​of CV began to give different coefficients and different R2."
   ]
  },
  {
   "cell_type": "code",
   "execution_count": 27,
   "metadata": {},
   "outputs": [
    {
     "name": "stdout",
     "output_type": "stream",
     "text": [
      "0.5212355446257863\n"
     ]
    }
   ],
   "source": [
    "X = CleanData.drop(['L'],axis=1)\n",
    "y = CleanData['L']\n",
    "X_train, X_test, y_train, y_test = train_test_split(X, y, test_size=0.05)\n",
    "ridgeN_ = Ridge(0.00001)\n",
    "ridgeN_.fit(X_train, y_train)\n",
    "y_pred = ridgeN_.predict(X)\n",
    "r2s = r2_score(y, y_pred)\n",
    "print(r2s)"
   ]
  },
  {
   "cell_type": "code",
   "execution_count": 28,
   "metadata": {},
   "outputs": [
    {
     "name": "stdout",
     "output_type": "stream",
     "text": [
      "0.5212246338816242\n"
     ]
    }
   ],
   "source": [
    "X = CleanData.drop(['L'],axis=1)\n",
    "y = CleanData['L']\n",
    "X_train, X_test, y_train, y_test = train_test_split(X, y, test_size=0.05)\n",
    "LassoN_ = Lasso(0.00001)\n",
    "LassoN_.fit(X_train, y_train)\n",
    "y_pred = LassoN_.predict(X)\n",
    "r2s = r2_score(y, y_pred)\n",
    "print(r2s)"
   ]
  },
  {
   "cell_type": "code",
   "execution_count": 31,
   "metadata": {},
   "outputs": [
    {
     "name": "stdout",
     "output_type": "stream",
     "text": [
      "0.5213284052740874\n"
     ]
    }
   ],
   "source": [
    "X = CleanData.drop(['L'],axis=1)\n",
    "y = CleanData['L']\n",
    "X_train, X_test, y_train, y_test = train_test_split(X, y, test_size=0.05)\n",
    "LN_ = LinearRegression()\n",
    "LN_.fit(X_train, y_train)\n",
    "y_pred = LN_.predict(X)\n",
    "r2s = r2_score(y, y_pred)\n",
    "print(r2s)"
   ]
  },
  {
   "cell_type": "markdown",
   "metadata": {},
   "source": [
    "<b>Note:</b>\n",
    "\n",
    "\n",
    "All three models (LineralRegression, Ridge, Lasso) give a maximum of ~0.52 at alpha -> 0, while there are no prerequisites for an increase in the value."
   ]
  },
  {
   "cell_type": "code",
   "execution_count": 33,
   "metadata": {},
   "outputs": [
    {
     "name": "stdout",
     "output_type": "stream",
     "text": [
      "[36.13 34.02 16.64 10.67  2.54]\n"
     ]
    },
    {
     "data": {
      "image/png": "[encoded data removed]",
      "text/plain": [
       "<Figure size 1000x600 with 1 Axes>"
      ]
     },
     "metadata": {},
     "output_type": "display_data"
    }
   ],
   "source": [
    "## dimensionality reduction\n",
    "\n",
    "from sklearn.decomposition import PCA\n",
    "from sklearn.preprocessing import MinMaxScaler\n",
    "scaler = MinMaxScaler()\n",
    "CleanData_rescaled = scaler.fit_transform(CleanData.drop(['L'],axis=1))\n",
    "pca = PCA().fit(CleanData_rescaled)\n",
    "\n",
    "\n",
    "import matplotlib.pyplot as plt\n",
    "plt.rcParams[\"figure.figsize\"] = (10,6)\n",
    "\n",
    "fig, ax = plt.subplots()\n",
    "xi = np.arange(0, 5, step=1)\n",
    "y = np.cumsum(pca.explained_variance_ratio_)\n",
    "print(np.round(pca.explained_variance_ratio_*100, 2))\n",
    "\n",
    "plt.ylim(0.0,1.1)\n",
    "plt.plot(xi, y, marker='o', linestyle='--', color='b')\n",
    "\n",
    "plt.xlabel('Number of Components')\n",
    "plt.xticks(np.arange(0, 5, step=1))\n",
    "plt.ylabel('Cumulative variance (%)')\n",
    "plt.title('The number of components needed to explain variance')\n",
    "\n",
    "plt.axhline(y=0.95, color='r', linestyle='-')\n",
    "plt.text(10.0, 0.85, '95% cut-off threshold', color = 'red', fontsize=16)\n",
    "\n",
    "ax.grid(axis='x')\n",
    "plt.show()"
   ]
  },
  {
   "cell_type": "markdown",
   "metadata": {},
   "source": [
    "<b>Note:</b>\n",
    "\n",
    "Based on the graph, 2-3 components are suitable for us, we will remove one component and check how our indicators change."
   ]
  },
  {
   "cell_type": "code",
   "execution_count": 35,
   "metadata": {},
   "outputs": [
    {
     "name": "stdout",
     "output_type": "stream",
     "text": [
      "Dimension (1459, 3)\n",
      "Variance \n",
      "[0.42 0.22 0.19]\n",
      "Components \n",
      "[[-0.243  0.649 -0.431  0.032  0.576]\n",
      " [ 0.632  0.073 -0.266  0.722 -0.054]\n",
      " [ 0.532  0.004 -0.511 -0.664 -0.125]]\n"
     ]
    }
   ],
   "source": [
    "from sklearn.preprocessing import scale\n",
    "CleanData_scaled = scale(CleanData.drop(['L'],axis=1))\n",
    "pca = PCA(n_components=3)\n",
    "U = pca.fit_transform(CleanData_scaled)\n",
    "CleanData_U = U\n",
    "print(\"Dimension \" + str(U.shape))\n",
    "print(\"Variance \\n\" + str(pca.explained_variance_ratio_.round(2)))\n",
    "print(\"Components \\n\" + str(pca.components_.round(3)))\n"
   ]
  },
  {
   "cell_type": "code",
   "execution_count": 36,
   "metadata": {},
   "outputs": [
    {
     "name": "stdout",
     "output_type": "stream",
     "text": [
      "\n",
      "Ridge\n",
      "CV:  3\n",
      "R2:  0.04486786321735692\n",
      "Coef:  [-0.35281 -0.51871 -1.11944]\n",
      "\n",
      "\n",
      "CV:  5\n",
      "R2:  0.07285961253735962\n",
      "Coef:  [-0.30699 -0.41201 -1.10953]\n",
      "\n",
      "\n",
      "CV:  10\n",
      "R2:  0.03584386000589257\n",
      "Coef:  [-0.36954 -0.48028 -1.13376]\n",
      "\n",
      "\n",
      "\n",
      "Lasso\n",
      "CV:  3\n",
      "R2: -0.04611495251223641\n",
      "Coef:  [-0.35002 -0.4921  -1.34803]\n",
      "\n",
      "\n",
      "CV:  5\n",
      "R2: 0.01934113431653195\n",
      "Coef:  [-0.41669 -0.47234 -1.18676]\n",
      "\n",
      "\n",
      "CV:  10\n",
      "R2: -0.01978679753245438\n",
      "Coef:  [-0.42039 -0.47792 -1.25537]\n",
      "\n",
      "\n",
      "\n",
      "Max r2_score =  0.5959047026287578\n"
     ]
    }
   ],
   "source": [
    "X = CleanData_U\n",
    "y = CleanData['L']\n",
    "X_train, X_test, y_train, y_test = train_test_split(X, y, test_size=0.10)\n",
    "\n",
    "print(\"\\nRidge\")\n",
    "for cvn in [3,5,10]:\n",
    "  X = CleanData_U\n",
    "  y = CleanData['L']\n",
    "  X_train, X_test, y_train, y_test = train_test_split(X, y, test_size=0.10)\n",
    "  ridge_ = RidgeCV(alphas = alphas,  scoring = 'r2', cv=cvn)\n",
    "  ridge_.fit(X_train, y_train)\n",
    "  y_pred = ridge_.predict(X_test)\n",
    "  r2s = r2_score(y_test, y_pred)\n",
    "  print(\"CV: \", cvn)\n",
    "  print(\"R2: \", r2s)\n",
    "  if r2s > r2_max:\n",
    "    r2_max = r2s\n",
    "  for i in [0,1,2]:\n",
    "    ridge_.coef_[i]=round(ridge_.coef_[i], 5)\n",
    "  print(\"Coef: \", ridge_.coef_)\n",
    "  best_alphas.append({ridge_.alpha_, cvn})\n",
    "  r2.append(r2s)\n",
    "  print(\"\\n\")\n",
    "\n",
    "print(\"\\nLasso\")\n",
    "for cvn in [3,5,10]:\n",
    "  X = CleanData_U\n",
    "  y = CleanData['L']\n",
    "  X_train, X_test, y_train, y_test = train_test_split(X, y, test_size=0.10)\n",
    "  lasso_ = LassoCV(alphas = alphas, cv=cvn)\n",
    "  lasso_.fit(X_train, y_train)\n",
    "  y_pred = lasso_.predict(X_test)\n",
    "  r2s = r2_score(y_test, y_pred)\n",
    "  print(\"CV: \", cvn)\n",
    "  print(\"R2:\", r2s)\n",
    "  if r2s > r2_max:\n",
    "    r2_max = r2s\n",
    "  for i in [0,1,2]:\n",
    "    lasso_.coef_[i]=round(lasso_.coef_[i], 5)\n",
    "  print(\"Coef: \", lasso_.coef_)\n",
    "  best_alphas.append({lasso_.alpha_, cvn})\n",
    "  r2.append(r2s)\n",
    "  print(\"\\n\")\n",
    "\n",
    "\n",
    "print(\"\\nMax r2_score = \", r2_max)"
   ]
  },
  {
   "cell_type": "markdown",
   "metadata": {},
   "source": [
    "<b>Note:</b>\n",
    "\n",
    "The decrease in dimension led to a catastrophic drop in the value of R2. Thus, models without an additional parameter fail to predict the correct value."
   ]
  },
  {
   "cell_type": "markdown",
   "metadata": {},
   "source": [
    "As a result, the maximum R2 for the test sample = 0.62 on the previously studied models. Ridge at CV=3 and alpha ~0.01, however, it was not possible to obtain such high values ​​further. The overall indicator for the entire sample is ~0.52, which is unacceptable. This situation is most likely due to the fact that our parameters have little effect on the predicted value. So the maximum correlation between the column that we predict and the column on the basis of which we predict is only -0.39, for other values ​​it is several times less, which means that it is difficult for the model to build relationships between the indicator and what should be the result.\n",
    "To solve this problem, we will try to use other models."
   ]
  },
  {
   "cell_type": "markdown",
   "metadata": {},
   "source": [
    "### other models"
   ]
  },
  {
   "cell_type": "code",
   "execution_count": 37,
   "metadata": {},
   "outputs": [
    {
     "name": "stdout",
     "output_type": "stream",
     "text": [
      "R2 for test max =  0.9634773686433429\n",
      "R2 for full max =  0.9885252218964045\n"
     ]
    }
   ],
   "source": [
    "from sklearn.ensemble import RandomForestRegressor\n",
    "r2_for_max = 0.0\n",
    "r2s_m = 0.0\n",
    "for n in range (10,101):\n",
    "  X = CleanData.drop(['L'], axis=1)\n",
    "  y = CleanData['L']\n",
    "  X_train, X_test, y_train, y_test = train_test_split(X, y, test_size=0.10)\n",
    "\n",
    "  RandomForestRegressor_ = RandomForestRegressor(n_estimators=n)\n",
    "  RandomForestRegressor_.fit(X_train, y_train)\n",
    "  y_pred = RandomForestRegressor_.predict(X_test)\n",
    "  r2s = r2_score(y_test, y_pred)\n",
    "  if r2s > r2_for_max:\n",
    "    r2_for_max = r2s\n",
    "    y_pred = RandomForestRegressor_.predict(X)\n",
    "    r2s_m = r2_score(y, y_pred)\n",
    "\n",
    "print(\"R2 for test max = \", r2_for_max)\n",
    "print(\"R2 for full max = \", r2s_m)"
   ]
  },
  {
   "cell_type": "code",
   "execution_count": 40,
   "metadata": {},
   "outputs": [
    {
     "name": "stdout",
     "output_type": "stream",
     "text": [
      "[0.63927416 0.73032963 0.70583699 0.78286001 0.70757361 0.76592962\n",
      " 0.67687426 0.74332791 0.74992056 0.73168064]\n",
      "R2: 0.700581509067874\n"
     ]
    }
   ],
   "source": [
    "from sklearn.ensemble import AdaBoostRegressor\n",
    "from sklearn.model_selection import train_test_split\n",
    "from sklearn.model_selection import cross_val_score, KFold\n",
    "from sklearn.metrics import mean_squared_error\n",
    "import matplotlib.pyplot as plt\n",
    "\n",
    "CleanData = pd.read_csv('/Users/olgafrolova/Documents/Data-science(introduction)/datasets/airfoil_self_noise.dat',sep='\\t')\n",
    "CleanData.rename(columns={'800': 'FR', '0': 'AA', '0.3048': 'CL', '71.3': 'FS', '0.00266337': 'SS', '126.201': 'L'}, inplace=True)\n",
    "new_row = pd.DataFrame({'FR':800, 'AA':0, 'CL':0.3048,'FS':71.3, 'SS':0.00266337, 'L':126.201},index =[0])\n",
    "CleanData= pd.concat([new_row, CleanData]).reset_index(drop = True)\n",
    "DataColumns = [\"FR\", \"AA\", 'CL', \"FS\", \"SS\", \"L\"]\n",
    "\n",
    "for x in DataColumns:\n",
    "  q90 = CleanData[x].quantile(q=0.90)\n",
    "  q10 = CleanData[x].quantile(q=0.10)\n",
    "\n",
    "  intr_qr = q90-q10\n",
    "\n",
    "  max = q90+(intr_qr)\n",
    "  min = q10-(intr_qr)\n",
    "\n",
    "  CleanData.loc[CleanData[x] < min,x] = np.nan\n",
    "  CleanData.loc[CleanData[x] > max,x] = np.nan\n",
    "\n",
    "CleanData = CleanData.dropna(axis=0)\n",
    "X = CleanData.drop(['L'],axis=1)\n",
    "y = CleanData['L']\n",
    "X_train, X_test, y_train, y_test = train_test_split(X, y, test_size=0.10)\n",
    "\n",
    "\n",
    "ada_reg = AdaBoostRegressor(estimator=None, learning_rate=4.5, loss='exponential',\n",
    "         n_estimators=175, random_state=53) \n",
    "ada_reg.fit(X_train, y_train)\n",
    "scores = cross_val_score(ada_reg, X_train,y_train,cv=10,scoring =\"r2\")\n",
    "print(scores)\n",
    "y_pred = ada_reg.predict(X_test)\n",
    "R_2 = r2_score(y_test,y_pred)\n",
    "print(\"R2:\", R_2)"
   ]
  },
  {
   "cell_type": "code",
   "execution_count": 41,
   "metadata": {},
   "outputs": [
    {
     "name": "stdout",
     "output_type": "stream",
     "text": [
      "R2: 0.7501760336930403\n"
     ]
    }
   ],
   "source": [
    "y_pred_full = ada_reg.predict(X)\n",
    "print(\"R2:\", r2_score(y, y_pred_full))"
   ]
  },
  {
   "cell_type": "code",
   "execution_count": 43,
   "metadata": {},
   "outputs": [
    {
     "name": "stdout",
     "output_type": "stream",
     "text": [
      "\n",
      "OrthogonalMatchingPursuitCV\n",
      "CV:  3\n",
      "R2: 0.6212854175208662\n",
      "Coef:  [-1.55000000e-03 -4.09520000e-01 -3.43182500e+01  9.85375159e-02\n",
      " -1.48917687e+02]\n",
      "\n",
      "\n",
      "CV:  5\n",
      "R2: 0.37330554325981136\n",
      "Coef:  [-1.59000000e-03 -3.50140000e-01 -3.23715800e+01  9.94324590e-02\n",
      " -1.68488299e+02]\n",
      "\n",
      "\n",
      "CV:  10\n",
      "R2: 0.47050708055908264\n",
      "Coef:  [-1.53000000e-03 -3.81820000e-01 -3.41263100e+01  9.41547214e-02\n",
      " -1.59068304e+02]\n",
      "\n",
      "\n",
      "\n",
      "LassoLarsCV\n",
      "CV:  3\n",
      "R2: 0.513322367013155\n",
      "Coef:  [-1.53000000e-03 -4.25250000e-01 -3.34703500e+01  9.95135871e-02\n",
      " -1.45454927e+02]\n",
      "\n",
      "\n",
      "CV:  5\n",
      "R2: 0.5283161266872042\n",
      "Coef:  [-1.55000000e-03 -3.85060000e-01 -3.34882600e+01  9.75449427e-02\n",
      " -1.55981106e+02]\n",
      "\n",
      "\n",
      "CV:  10\n",
      "R2: 0.5122422089583434\n",
      "Coef:  [-1.56000000e-03 -4.40340000e-01 -3.49710700e+01  1.02061329e-01\n",
      " -1.39568438e+02]\n",
      "\n",
      "\n",
      "0.6212854175208662\n"
     ]
    }
   ],
   "source": [
    "from sklearn.linear_model import OrthogonalMatchingPursuitCV\n",
    "from sklearn.linear_model import LassoLarsCV\n",
    "print(\"\\nOrthogonalMatchingPursuitCV\")\n",
    "r2_omp_max = 0.0\n",
    "for cvn in [3,5,10]:\n",
    "  X = CleanData.drop(['L'],axis=1)\n",
    "  y = CleanData['L']\n",
    "  X_train, X_test, y_train, y_test = train_test_split(X, y, test_size=0.10)\n",
    "  O_M= OrthogonalMatchingPursuitCV(cv=cvn)\n",
    "  O_M.fit(X_train, y_train)\n",
    "  y_pred = O_M.predict(X_test)\n",
    "  r2s = r2_score(y_test, y_pred)\n",
    "  print(\"CV: \", cvn)\n",
    "  print(\"R2:\", r2s)\n",
    "  if r2s > r2_omp_max:\n",
    "    r2_omp_max = r2s\n",
    "  for i in [0,1,2]:\n",
    "    O_M.coef_[i]=round(O_M.coef_[i], 5)\n",
    "  print(\"Coef: \", O_M.coef_)\n",
    "  r2.append(r2s)\n",
    "  print(\"\\n\")\n",
    "\n",
    "print(\"\\nLassoLarsCV\")\n",
    "for cvn in [3,5,10]:\n",
    "  X = CleanData.drop(['L'],axis=1)\n",
    "  y = CleanData['L']\n",
    "  X_train, X_test, y_train, y_test = train_test_split(X, y, test_size=0.10)\n",
    "  LL= LassoLarsCV(cv=cvn)\n",
    "  LL.fit(X_train, y_train)\n",
    "  y_pred = LL.predict(X_test)\n",
    "  r2s = r2_score(y_test, y_pred)\n",
    "  print(\"CV: \", cvn)\n",
    "  print(\"R2:\", r2s)\n",
    "  if r2s > r2_omp_max:\n",
    "    r2_omp_max = r2s\n",
    "  for i in [0,1,2]:\n",
    "    LL.coef_[i]=round(LL.coef_[i], 5)\n",
    "  print(\"Coef: \", LL.coef_)\n",
    "  r2.append(r2s)\n",
    "  print(\"\\n\")\n",
    "  \n",
    "print(r2_omp_max)"
   ]
  },
  {
   "cell_type": "code",
   "execution_count": 45,
   "metadata": {},
   "outputs": [
    {
     "name": "stdout",
     "output_type": "stream",
     "text": [
      "R2: 0.5209310264028899\n"
     ]
    }
   ],
   "source": [
    "reg = OrthogonalMatchingPursuitCV(cv=5)\n",
    "reg.fit(X_train, y_train)\n",
    "y_pred = reg.predict(X)\n",
    "R_2 = r2_score(y,y_pred)\n",
    "print(\"R2:\", R_2)"
   ]
  },
  {
   "cell_type": "code",
   "execution_count": 46,
   "metadata": {},
   "outputs": [
    {
     "name": "stdout",
     "output_type": "stream",
     "text": [
      "R2: 0.5209310264028899\n"
     ]
    }
   ],
   "source": [
    "reg = LassoLarsCV(cv=10)\n",
    "reg.fit(X_train, y_train)\n",
    "y_pred = reg.predict(X)\n",
    "R_2 = r2_score(y,y_pred)\n",
    "print(\"R2:\", R_2)"
   ]
  }
 ],
 "metadata": {
  "kernelspec": {
   "display_name": "Python 3",
   "language": "python",
   "name": "python3"
  },
  "language_info": {
   "codemirror_mode": {
    "name": "ipython",
    "version": 3
   },
   "file_extension": ".py",
   "mimetype": "text/x-python",
   "name": "python",
   "nbconvert_exporter": "python",
   "pygments_lexer": "ipython3",
   "version": "3.10.11"
  },
  "orig_nbformat": 4
 },
 "nbformat": 4,
 "nbformat_minor": 2
}
